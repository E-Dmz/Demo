{
 "cells": [
  {
   "cell_type": "code",
   "execution_count": 2,
   "id": "1105701b",
   "metadata": {},
   "outputs": [
    {
     "data": {
      "text/plain": [
       "Status(ID=1416315640265297921, ScreenName=E_Dmz_Bot, Created=Sat Jul 17 08:35:37 +0000 2021, Text='[🧡 Code] So easy to tweet with #python and the #twitterapi 👍 https://t.co/PX01Ej5c62')"
      ]
     },
     "execution_count": 2,
     "metadata": {},
     "output_type": "execute_result"
    }
   ],
   "source": [
    "### @E_Dmz_Bot 🤖 ###\n",
    "\n",
    "import twitter\n",
    "from keys import keys\n",
    "api = twitter.Api(**keys)\n",
    "\n",
    "api.PostUpdate(\"[🧡 Code] \\\n",
    "So easy to tweet with #python \\\n",
    "and the #twitterapi 👍\",\n",
    "            media = 'SourceCodeScreen.png')\n",
    "\n",
    "### That's all, Folks! ###"
   ]
  },
  {
   "cell_type": "code",
   "execution_count": null,
   "id": "fe1f1a7f",
   "metadata": {},
   "outputs": [],
   "source": []
  }
 ],
 "metadata": {
  "kernelspec": {
   "display_name": "Python 3",
   "language": "python",
   "name": "python3"
  },
  "language_info": {
   "codemirror_mode": {
    "name": "ipython",
    "version": 3
   },
   "file_extension": ".py",
   "mimetype": "text/x-python",
   "name": "python",
   "nbconvert_exporter": "python",
   "pygments_lexer": "ipython3",
   "version": "3.8.10"
  }
 },
 "nbformat": 4,
 "nbformat_minor": 5
}
